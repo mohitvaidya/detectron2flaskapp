{
 "cells": [
  {
   "cell_type": "code",
   "execution_count": 3,
   "id": "boolean-carol",
   "metadata": {},
   "outputs": [],
   "source": [
    "import requests\n",
    "from ast import literal_eval\n",
    "from oddf import odasdf\n",
    "\n",
    "import azure.cosmos.cosmos_client as cosmos_client\n",
    "import azure.cosmos.errors as errors\n",
    "import azure.cosmos.http_constants as http_constants\n",
    "import argparse\n",
    "from pathlib import Path\n",
    "import os\n",
    "import json\n",
    "from tqdm import tqdm\n",
    "\n",
    "from ast import literal_eval\n",
    "from os import listdir\n",
    "from os.path import isfile, join\n",
    "import concurrent.futures\n",
    "from timer import timer\n",
    "\n",
    "# azure-core==1.8.0\n",
    "# azure-cosmos==4.0.0\n",
    "# azure-storage-blob==12.1.0"
   ]
  },
  {
   "cell_type": "code",
   "execution_count": 4,
   "id": "periodic-auction",
   "metadata": {},
   "outputs": [],
   "source": [
    "r = requests.post(\"http://20.185.77.234:5000\",\n",
    "                    json={'ID': \"10076\" , 'FPS': '1', 'duration': '60', 'lang': \"hindi\",\n",
    "                            'container': \"athenaliveprod\"})"
   ]
  },
  {
   "cell_type": "code",
   "execution_count": 14,
   "id": "flying-grant",
   "metadata": {},
   "outputs": [],
   "source": [
    "with open('outputfile.json', 'wb') as outf:\n",
    "    outf.write(r.content)"
   ]
  },
  {
   "cell_type": "code",
   "execution_count": 10,
   "id": "automotive-pickup",
   "metadata": {},
   "outputs": [],
   "source": [
    "od_df = odasdf(literal_eval(r.text))"
   ]
  },
  {
   "cell_type": "code",
   "execution_count": 12,
   "id": "passive-bargain",
   "metadata": {
    "scrolled": true
   },
   "outputs": [
    {
     "data": {
      "text/html": [
       "<div>\n",
       "<style scoped>\n",
       "    .dataframe tbody tr th:only-of-type {\n",
       "        vertical-align: middle;\n",
       "    }\n",
       "\n",
       "    .dataframe tbody tr th {\n",
       "        vertical-align: top;\n",
       "    }\n",
       "\n",
       "    .dataframe thead th {\n",
       "        text-align: right;\n",
       "    }\n",
       "</style>\n",
       "<table border=\"1\" class=\"dataframe\">\n",
       "  <thead>\n",
       "    <tr style=\"text-align: right;\">\n",
       "      <th></th>\n",
       "      <th>area_percentage</th>\n",
       "      <th>count</th>\n",
       "      <th>label</th>\n",
       "      <th>score</th>\n",
       "      <th>frame</th>\n",
       "      <th>folder</th>\n",
       "    </tr>\n",
       "  </thead>\n",
       "  <tbody>\n",
       "    <tr>\n",
       "      <th>0</th>\n",
       "      <td>12.50</td>\n",
       "      <td>1</td>\n",
       "      <td>wall</td>\n",
       "      <td>1.00</td>\n",
       "      <td>1</td>\n",
       "      <td>10076_</td>\n",
       "    </tr>\n",
       "    <tr>\n",
       "      <th>1</th>\n",
       "      <td>10.16</td>\n",
       "      <td>1</td>\n",
       "      <td>ceiling</td>\n",
       "      <td>1.00</td>\n",
       "      <td>1</td>\n",
       "      <td>10076_</td>\n",
       "    </tr>\n",
       "    <tr>\n",
       "      <th>2</th>\n",
       "      <td>4.39</td>\n",
       "      <td>1</td>\n",
       "      <td>floor</td>\n",
       "      <td>1.00</td>\n",
       "      <td>1</td>\n",
       "      <td>10076_</td>\n",
       "    </tr>\n",
       "    <tr>\n",
       "      <th>3</th>\n",
       "      <td>2.55</td>\n",
       "      <td>1</td>\n",
       "      <td>window</td>\n",
       "      <td>1.00</td>\n",
       "      <td>1</td>\n",
       "      <td>10076_</td>\n",
       "    </tr>\n",
       "    <tr>\n",
       "      <th>4</th>\n",
       "      <td>0.69</td>\n",
       "      <td>1</td>\n",
       "      <td>light</td>\n",
       "      <td>1.00</td>\n",
       "      <td>1</td>\n",
       "      <td>10076_</td>\n",
       "    </tr>\n",
       "    <tr>\n",
       "      <th>...</th>\n",
       "      <td>...</td>\n",
       "      <td>...</td>\n",
       "      <td>...</td>\n",
       "      <td>...</td>\n",
       "      <td>...</td>\n",
       "      <td>...</td>\n",
       "    </tr>\n",
       "    <tr>\n",
       "      <th>253</th>\n",
       "      <td>14.71</td>\n",
       "      <td>1</td>\n",
       "      <td>wall</td>\n",
       "      <td>1.00</td>\n",
       "      <td>52</td>\n",
       "      <td>10076_</td>\n",
       "    </tr>\n",
       "    <tr>\n",
       "      <th>254</th>\n",
       "      <td>6.93</td>\n",
       "      <td>1</td>\n",
       "      <td>ceiling</td>\n",
       "      <td>1.00</td>\n",
       "      <td>52</td>\n",
       "      <td>10076_</td>\n",
       "    </tr>\n",
       "    <tr>\n",
       "      <th>255</th>\n",
       "      <td>1.26</td>\n",
       "      <td>1</td>\n",
       "      <td>rug</td>\n",
       "      <td>1.00</td>\n",
       "      <td>52</td>\n",
       "      <td>10076_</td>\n",
       "    </tr>\n",
       "    <tr>\n",
       "      <th>256</th>\n",
       "      <td>0.72</td>\n",
       "      <td>1</td>\n",
       "      <td>floor</td>\n",
       "      <td>1.00</td>\n",
       "      <td>52</td>\n",
       "      <td>10076_</td>\n",
       "    </tr>\n",
       "    <tr>\n",
       "      <th>257</th>\n",
       "      <td>46.29</td>\n",
       "      <td>5</td>\n",
       "      <td>person</td>\n",
       "      <td>0.92</td>\n",
       "      <td>52</td>\n",
       "      <td>10076_</td>\n",
       "    </tr>\n",
       "  </tbody>\n",
       "</table>\n",
       "<p>258 rows × 6 columns</p>\n",
       "</div>"
      ],
      "text/plain": [
       "     area_percentage  count    label  score  frame  folder\n",
       "0              12.50      1     wall   1.00      1  10076_\n",
       "1              10.16      1  ceiling   1.00      1  10076_\n",
       "2               4.39      1    floor   1.00      1  10076_\n",
       "3               2.55      1   window   1.00      1  10076_\n",
       "4               0.69      1    light   1.00      1  10076_\n",
       "..               ...    ...      ...    ...    ...     ...\n",
       "253            14.71      1     wall   1.00     52  10076_\n",
       "254             6.93      1  ceiling   1.00     52  10076_\n",
       "255             1.26      1      rug   1.00     52  10076_\n",
       "256             0.72      1    floor   1.00     52  10076_\n",
       "257            46.29      5   person   0.92     52  10076_\n",
       "\n",
       "[258 rows x 6 columns]"
      ]
     },
     "execution_count": 12,
     "metadata": {},
     "output_type": "execute_result"
    }
   ],
   "source": [
    "od_df\n"
   ]
  },
  {
   "cell_type": "code",
   "execution_count": 22,
   "id": "sized-headline",
   "metadata": {},
   "outputs": [],
   "source": [
    "# Specify you cosmos account details\n",
    "\n",
    "COSMOS_ACCOUNT_URI=\"https://cosmos-ml.documents.azure.com:443\"\n",
    "COSMOS_ACCOUNT_KEY=\"Xk2aRRmk45Ix6CJH72ZgzcbV0uQn4Ln2gYnAfdPY4gxi65X2odyA9BdIxlCWBkiWquodWSyHY7mFce1L5X9Nzg==\"\n",
    "\n",
    "client = cosmos_client.CosmosClient(url = COSMOS_ACCOUNT_URI, credential = COSMOS_ACCOUNT_KEY)\n",
    "\n",
    "# Database and container name\n",
    "\n",
    "database_name = 'pipeline'\n",
    "database = client.get_database_client(database_name)\n",
    "container_name = 'custom_od'\n",
    "container = database.get_container_client(container_name)"
   ]
  },
  {
   "cell_type": "code",
   "execution_count": 23,
   "id": "negative-senior",
   "metadata": {},
   "outputs": [],
   "source": [
    "#  Push util for COSMOS JSON\n",
    "def push_files(files, basepath = None):\n",
    "    for file in tqdm(files):\n",
    "        with open(f'{basepath}/{file}.json', 'rb') as f:\n",
    "            data = json.load(f)\n",
    "            container.upsert_item(data)\n",
    "            print('Upload completed for {\">\"*10} {file}')"
   ]
  },
  {
   "cell_type": "code",
   "execution_count": 24,
   "id": "northern-creek",
   "metadata": {},
   "outputs": [],
   "source": [
    "# get list of files for upload \n",
    "basepath = f'./'\n",
    "files = []\n",
    "for f in listdir(f'{basepath}/'):\n",
    "    if '.json' in f and os.path.getsize(f'{basepath}/{f}') != 0:\n",
    "        files.append(f.split('.')[0])"
   ]
  },
  {
   "cell_type": "code",
   "execution_count": 26,
   "id": "warming-relevance",
   "metadata": {},
   "outputs": [
    {
     "name": "stderr",
     "output_type": "stream",
     "text": [
      "100%|██████████| 1/1 [00:00<00:00,  7.43it/s]"
     ]
    },
    {
     "name": "stdout",
     "output_type": "stream",
     "text": [
      "Upload completed for {\">\"*10} {file}\n"
     ]
    },
    {
     "name": "stderr",
     "output_type": "stream",
     "text": [
      "\n"
     ]
    }
   ],
   "source": [
    "push_files(files, basepath=\".\")"
   ]
  },
  {
   "cell_type": "code",
   "execution_count": null,
   "id": "close-mandate",
   "metadata": {},
   "outputs": [],
   "source": []
  }
 ],
 "metadata": {
  "kernelspec": {
   "display_name": "Python 3",
   "language": "python",
   "name": "python3"
  },
  "language_info": {
   "codemirror_mode": {
    "name": "ipython",
    "version": 3
   },
   "file_extension": ".py",
   "mimetype": "text/x-python",
   "name": "python",
   "nbconvert_exporter": "python",
   "pygments_lexer": "ipython3",
   "version": "3.7.9"
  }
 },
 "nbformat": 4,
 "nbformat_minor": 5
}
